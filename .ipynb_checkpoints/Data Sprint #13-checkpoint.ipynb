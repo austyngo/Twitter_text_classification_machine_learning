{
 "cells": [
  {
   "cell_type": "code",
   "execution_count": 1,
   "metadata": {},
   "outputs": [
    {
     "data": {
      "text/html": [
       "<div>\n",
       "<style scoped>\n",
       "    .dataframe tbody tr th:only-of-type {\n",
       "        vertical-align: middle;\n",
       "    }\n",
       "\n",
       "    .dataframe tbody tr th {\n",
       "        vertical-align: top;\n",
       "    }\n",
       "\n",
       "    .dataframe thead th {\n",
       "        text-align: right;\n",
       "    }\n",
       "</style>\n",
       "<table border=\"1\" class=\"dataframe\">\n",
       "  <thead>\n",
       "    <tr style=\"text-align: right;\">\n",
       "      <th></th>\n",
       "      <th>id</th>\n",
       "      <th>Text</th>\n",
       "      <th>oh_label</th>\n",
       "    </tr>\n",
       "  </thead>\n",
       "  <tbody>\n",
       "    <tr>\n",
       "      <th>3051</th>\n",
       "      <td>5.68E+17</td>\n",
       "      <td>RT @ThatAndromeda: I made a transcript of my #...</td>\n",
       "      <td>0</td>\n",
       "    </tr>\n",
       "    <tr>\n",
       "      <th>2793</th>\n",
       "      <td>5.65E+17</td>\n",
       "      <td>When we look at all mentions of a username, in...</td>\n",
       "      <td>0</td>\n",
       "    </tr>\n",
       "    <tr>\n",
       "      <th>12677</th>\n",
       "      <td>5.72E+17</td>\n",
       "      <td>Double drool! Colin and Manu 😻 #MKR @manufeild...</td>\n",
       "      <td>0</td>\n",
       "    </tr>\n",
       "    <tr>\n",
       "      <th>13346</th>\n",
       "      <td>4.90E+17</td>\n",
       "      <td>RT @flortana_: No i'm not sexist but no I do n...</td>\n",
       "      <td>1</td>\n",
       "    </tr>\n",
       "    <tr>\n",
       "      <th>9213</th>\n",
       "      <td>5.67E+17</td>\n",
       "      <td>@truaemusic Again you are an idiot. \"Others di...</td>\n",
       "      <td>1</td>\n",
       "    </tr>\n",
       "    <tr>\n",
       "      <th>3504</th>\n",
       "      <td>5.64E+17</td>\n",
       "      <td>Being a feminist can be so incredibly fucking ...</td>\n",
       "      <td>0</td>\n",
       "    </tr>\n",
       "    <tr>\n",
       "      <th>11739</th>\n",
       "      <td>5.71E+17</td>\n",
       "      <td>@Xer0Dynamite uh, okay?</td>\n",
       "      <td>0</td>\n",
       "    </tr>\n",
       "    <tr>\n",
       "      <th>1877</th>\n",
       "      <td>5.72E+17</td>\n",
       "      <td>We have hope but no cooking ability. Well, tha...</td>\n",
       "      <td>0</td>\n",
       "    </tr>\n",
       "    <tr>\n",
       "      <th>14942</th>\n",
       "      <td>5.66E+17</td>\n",
       "      <td>@YRohaibani @ajwatamr So you just blow off the...</td>\n",
       "      <td>1</td>\n",
       "    </tr>\n",
       "    <tr>\n",
       "      <th>8279</th>\n",
       "      <td>5.76E+17</td>\n",
       "      <td>My #MKR prediction: Next season there will aga...</td>\n",
       "      <td>0</td>\n",
       "    </tr>\n",
       "  </tbody>\n",
       "</table>\n",
       "</div>"
      ],
      "text/plain": [
       "             id                                               Text  oh_label\n",
       "3051   5.68E+17  RT @ThatAndromeda: I made a transcript of my #...         0\n",
       "2793   5.65E+17  When we look at all mentions of a username, in...         0\n",
       "12677  5.72E+17  Double drool! Colin and Manu 😻 #MKR @manufeild...         0\n",
       "13346  4.90E+17  RT @flortana_: No i'm not sexist but no I do n...         1\n",
       "9213   5.67E+17  @truaemusic Again you are an idiot. \"Others di...         1\n",
       "3504   5.64E+17  Being a feminist can be so incredibly fucking ...         0\n",
       "11739  5.71E+17                            @Xer0Dynamite uh, okay?         0\n",
       "1877   5.72E+17  We have hope but no cooking ability. Well, tha...         0\n",
       "14942  5.66E+17  @YRohaibani @ajwatamr So you just blow off the...         1\n",
       "8279   5.76E+17  My #MKR prediction: Next season there will aga...         0"
      ]
     },
     "execution_count": 1,
     "metadata": {},
     "output_type": "execute_result"
    }
   ],
   "source": [
    "import pandas as pd\n",
    "import numpy as np\n",
    "import matplotlib.pyplot as plt\n",
    "import seaborn as sns\n",
    "%matplotlib inline\n",
    "\n",
    "df= pd.read_csv(\"https://raw.githubusercontent.com/dphi-official/Datasets/master/cyberbullying_data/Training_set_label.csv\" )\n",
    "df.sample(10)"
   ]
  },
  {
   "cell_type": "code",
   "execution_count": 2,
   "metadata": {},
   "outputs": [],
   "source": [
    "df['Text2'] = df['Text'].str.replace('@[^\\s]+', 'MENTION', regex=True)"
   ]
  },
  {
   "cell_type": "code",
   "execution_count": 3,
   "metadata": {},
   "outputs": [
    {
     "data": {
      "text/html": [
       "<div>\n",
       "<style scoped>\n",
       "    .dataframe tbody tr th:only-of-type {\n",
       "        vertical-align: middle;\n",
       "    }\n",
       "\n",
       "    .dataframe tbody tr th {\n",
       "        vertical-align: top;\n",
       "    }\n",
       "\n",
       "    .dataframe thead th {\n",
       "        text-align: right;\n",
       "    }\n",
       "</style>\n",
       "<table border=\"1\" class=\"dataframe\">\n",
       "  <thead>\n",
       "    <tr style=\"text-align: right;\">\n",
       "      <th></th>\n",
       "      <th>id</th>\n",
       "      <th>Text</th>\n",
       "      <th>oh_label</th>\n",
       "      <th>Text2</th>\n",
       "    </tr>\n",
       "  </thead>\n",
       "  <tbody>\n",
       "    <tr>\n",
       "      <th>1938</th>\n",
       "      <td>5.76E+17</td>\n",
       "      <td>@nine11inreverse I don't have a religion, but ...</td>\n",
       "      <td>0</td>\n",
       "      <td>MENTION I don't have a religion, but I'm somew...</td>\n",
       "    </tr>\n",
       "    <tr>\n",
       "      <th>9424</th>\n",
       "      <td>5.63E+17</td>\n",
       "      <td>RT @a_man_in_black: @freebsdgirl Hey, did you ...</td>\n",
       "      <td>0</td>\n",
       "      <td>RT MENTION MENTION Hey, did you know KS's TOS ...</td>\n",
       "    </tr>\n",
       "    <tr>\n",
       "      <th>6129</th>\n",
       "      <td>5.55E+17</td>\n",
       "      <td>@harun_yahya You and your religious brothers a...</td>\n",
       "      <td>1</td>\n",
       "      <td>MENTION You and your religious brothers are th...</td>\n",
       "    </tr>\n",
       "    <tr>\n",
       "      <th>8522</th>\n",
       "      <td>4.20E+17</td>\n",
       "      <td>Any time a man says his ex was \"crazy,\" run an...</td>\n",
       "      <td>0</td>\n",
       "      <td>Any time a man says his ex was \"crazy,\" run an...</td>\n",
       "    </tr>\n",
       "    <tr>\n",
       "      <th>2070</th>\n",
       "      <td>5.59E+17</td>\n",
       "      <td>@anjemchoudary We have seen the mercy of Islam...</td>\n",
       "      <td>0</td>\n",
       "      <td>MENTION We have seen the mercy of Islam with 2...</td>\n",
       "    </tr>\n",
       "  </tbody>\n",
       "</table>\n",
       "</div>"
      ],
      "text/plain": [
       "            id                                               Text  oh_label  \\\n",
       "1938  5.76E+17  @nine11inreverse I don't have a religion, but ...         0   \n",
       "9424  5.63E+17  RT @a_man_in_black: @freebsdgirl Hey, did you ...         0   \n",
       "6129  5.55E+17  @harun_yahya You and your religious brothers a...         1   \n",
       "8522  4.20E+17  Any time a man says his ex was \"crazy,\" run an...         0   \n",
       "2070  5.59E+17  @anjemchoudary We have seen the mercy of Islam...         0   \n",
       "\n",
       "                                                  Text2  \n",
       "1938  MENTION I don't have a religion, but I'm somew...  \n",
       "9424  RT MENTION MENTION Hey, did you know KS's TOS ...  \n",
       "6129  MENTION You and your religious brothers are th...  \n",
       "8522  Any time a man says his ex was \"crazy,\" run an...  \n",
       "2070  MENTION We have seen the mercy of Islam with 2...  "
      ]
     },
     "execution_count": 3,
     "metadata": {},
     "output_type": "execute_result"
    }
   ],
   "source": [
    "df.sample(5)"
   ]
  },
  {
   "cell_type": "code",
   "execution_count": 4,
   "metadata": {},
   "outputs": [],
   "source": [
    "import nltk\n",
    "from nltk.corpus import wordnet\n",
    "from nltk.stem import WordNetLemmatizer\n",
    "\n",
    "wnl = WordNetLemmatizer()\n",
    "\n",
    "#converting nltk tag to wordnet tag\n",
    "def nltk_wn_tag(nltk_tag):\n",
    "    if nltk_tag.startswith('J'):\n",
    "        return wordnet.ADJ\n",
    "    elif nltk_tag.startswith('V'):\n",
    "        return wordnet.VERB\n",
    "    elif nltk_tag.startswith('N'):\n",
    "        return wordnet.NOUN\n",
    "    elif nltk_tag.startswith('R'):\n",
    "        return wordnet.ADV\n",
    "    else:          \n",
    "        return None\n",
    "    \n",
    "def lemma(text):\n",
    "    nltk_tagged = nltk.pos_tag(nltk.word_tokenize(str(text)))\n",
    "    #creates a tuple: (token, wn tag)\n",
    "    wordnet_tagged = map(lambda x: (x[0], nltk_wn_tag(x[1])), nltk_tagged)\n",
    "    lem_sentence = []\n",
    "    for word, tag in wordnet_tagged:\n",
    "        if tag is None:\n",
    "            lem_sentence.append(word)\n",
    "        else:\n",
    "            lem_sentence.append(wnl.lemmatize(word,tag))\n",
    "    return \" \". join(lem_sentence)\n",
    "\n",
    "df['text_lem'] = df.apply(lambda x: lemma(x['Text2']), axis=1)"
   ]
  },
  {
   "cell_type": "code",
   "execution_count": 5,
   "metadata": {},
   "outputs": [
    {
     "data": {
      "text/plain": [
       "10404    RT MENTION ISIS execute 'educated , profession...\n",
       "8849     Record number of gozleme in one statement . # mkr\n",
       "8511     RT MENTION Gay fiancé be not go to cope be awa...\n",
       "11772    RT MENTION ~Remember # JohnCantile video : Bea...\n",
       "3796     MENTION Another line of horseshit . The poor M...\n",
       "8176     There seem to be 2 way to succeed in # mkr coo...\n",
       "10846                     MENTION http : //t.co/lVO0XBWu2P\n",
       "2987     Deconstructed anything be just a lazy way to m...\n",
       "744      since when do the hill at the footy count as a...\n",
       "12292    MENTION MENTION Which be still good than livin...\n",
       "Name: text_lem, dtype: object"
      ]
     },
     "execution_count": 5,
     "metadata": {},
     "output_type": "execute_result"
    }
   ],
   "source": [
    "df.text_lem.sample(10)"
   ]
  },
  {
   "cell_type": "code",
   "execution_count": 6,
   "metadata": {},
   "outputs": [],
   "source": [
    "#clean text\n",
    "import string\n",
    "from nltk.corpus import stopwords\n",
    "\n",
    "stop = stopwords.words('english')\n",
    "punc = string.punctuation\n",
    " \n",
    "def clean_text(text):\n",
    "    stop_removed = ' '.join([t for t in text.lower().split() if t not in stop])\n",
    "    punc_removed = ' '.join(s for s in stop_removed.split() if s not in punc)\n",
    "    return punc_removed\n",
    "\n",
    "df['text_clean'] = df.apply(lambda x: clean_text(x['text_lem']), axis=1)"
   ]
  },
  {
   "cell_type": "code",
   "execution_count": 8,
   "metadata": {},
   "outputs": [],
   "source": [
    "from sklearn.model_selection import train_test_split\n",
    "\n",
    "X = df['text_clean']\n",
    "X2 = df['text_lem']\n",
    "y= df['oh_label']\n",
    "X_train, X_test, y_train, y_test = train_test_split(  \n",
    "                    X, y, test_size=0.25, random_state=3)\n",
    "\n",
    "X2_train, X2_test, y2_train, y2_test = train_test_split(  \n",
    "                    X2, y, test_size=0.25, random_state=3)"
   ]
  },
  {
   "cell_type": "code",
   "execution_count": 9,
   "metadata": {},
   "outputs": [
    {
     "name": "stdout",
     "output_type": "stream",
     "text": [
      "(11456, 763) (11456, 859)\n"
     ]
    }
   ],
   "source": [
    "#Transforming words in text into a TFIDF vector\n",
    "from sklearn.feature_extraction.text import TfidfVectorizer\n",
    "vectorizer = TfidfVectorizer(min_df=20, max_df=0.3) \n",
    "X_vec = vectorizer.fit_transform(X_train).toarray()\n",
    "X2_vec = vectorizer.fit_transform(X2_train).toarray()\n",
    "print(X_vec.shape, X2_vec.shape)"
   ]
  },
  {
   "cell_type": "code",
   "execution_count": 74,
   "metadata": {},
   "outputs": [
    {
     "data": {
      "image/png": "[encoded data removed]",
      "text/plain": [
       "<Figure size 720x360 with 1 Axes>"
      ]
     },
     "metadata": {
      "needs_background": "light"
     },
     "output_type": "display_data"
    }
   ],
   "source": [
    "from sklearn.decomposition import PCA\n",
    "pca = PCA()\n",
    "X_pca = pca.fit_transform(X_vec)\n",
    "pca2 = PCA()\n",
    "X2_pca = pca2.fit_transform(X2_vec)\n",
    "\n",
    "fig, ax = plt.subplots(figsize=(10,5)) \n",
    "ax.plot(np.cumsum(pca.explained_variance_ratio_), linewidth=3, color='red', label='Stopwords Removed')\n",
    "ax.plot(np.cumsum(pca2.explained_variance_ratio_), linewidth=3, color='teal', label='With Stopwords')\n",
    "ax.set_title(\"Principal Component Analysis\", fontsize=18) \n",
    "ax.set_facecolor('#b3bdc6')\n",
    "ax.legend() \n",
    "\n",
    "plt.show()"
   ]
  },
  {
   "cell_type": "markdown",
   "metadata": {},
   "source": [
    "The text with stopwords included actually has a higher arch than the text without stopwords when PCA is applied, meaning a greater proportion of variance is explained with fewer variables. We will use the text with stopwords included.\n",
    "\n",
    "The model will include 400 features as it accounts for roughly 80% of the explained variance."
   ]
  },
  {
   "cell_type": "code",
   "execution_count": 11,
   "metadata": {},
   "outputs": [
    {
     "data": {
      "text/plain": [
       "(11456, 400)"
      ]
     },
     "execution_count": 11,
     "metadata": {},
     "output_type": "execute_result"
    }
   ],
   "source": [
    "n_feat = 400 \n",
    "pca_2 = PCA(n_components = n_feat)\n",
    "X_2 = pca_2.fit_transform(X2_vec)\n",
    "X_2.shape"
   ]
  },
  {
   "cell_type": "markdown",
   "metadata": {},
   "source": [
    "Logistic Regression,\n",
    "Random Forest,\n",
    "XGBoost"
   ]
  },
  {
   "cell_type": "code",
   "execution_count": 43,
   "metadata": {},
   "outputs": [],
   "source": [
    "from sklearn.model_selection import KFold\n",
    "from sklearn.linear_model import LogisticRegression\n",
    "from sklearn.ensemble import RandomForestClassifier\n",
    "from sklearn.metrics import f1_score\n",
    "from xgboost import XGBClassifier\n",
    "\n",
    "logis = LogisticRegression(random_state=0)\n",
    "rf = RandomForestClassifier(random_state=0)\n",
    "xgb = XGBClassifier(random_state=0)\n",
    "\n",
    "kf = KFold(n_splits=3, shuffle=True)"
   ]
  },
  {
   "cell_type": "code",
   "execution_count": 45,
   "metadata": {},
   "outputs": [
    {
     "name": "stdout",
     "output_type": "stream",
     "text": [
      "model=LogisticRegression(random_state=0): 0.6609112709832135\n",
      "model=RandomForestClassifier(random_state=0): 0.6364121729845168\n",
      "model=XGBClassifier(base_score=0.5, booster='gbtree', colsample_bylevel=1,\n",
      "              colsample_bynode=1, colsample_bytree=1, gamma=0, gpu_id=-1,\n",
      "              importance_type='gain', interaction_constraints='',\n",
      "              learning_rate=0.300000012, max_delta_step=0, max_depth=6,\n",
      "              min_child_weight=1, missing=nan, monotone_constraints='()',\n",
      "              n_estimators=100, n_jobs=0, num_parallel_tree=1, random_state=0,\n",
      "              reg_alpha=0, reg_lambda=1, scale_pos_weight=1, subsample=1,\n",
      "              tree_method='exact', validate_parameters=1, verbosity=None): 0.7224264705882354\n",
      "model=LogisticRegression(random_state=0): 0.6731391585760517\n",
      "model=RandomForestClassifier(random_state=0): 0.613262599469496\n",
      "model=XGBClassifier(base_score=0.5, booster='gbtree', colsample_bylevel=1,\n",
      "              colsample_bynode=1, colsample_bytree=1, gamma=0, gpu_id=-1,\n",
      "              importance_type='gain', interaction_constraints='',\n",
      "              learning_rate=0.300000012, max_delta_step=0, max_depth=6,\n",
      "              min_child_weight=1, missing=nan, monotone_constraints='()',\n",
      "              n_estimators=100, n_jobs=0, num_parallel_tree=1, random_state=0,\n",
      "              reg_alpha=0, reg_lambda=1, scale_pos_weight=1, subsample=1,\n",
      "              tree_method='exact', validate_parameters=1, verbosity=None): 0.7166591827570723\n",
      "model=LogisticRegression(random_state=0): 0.6364532019704434\n",
      "model=RandomForestClassifier(random_state=0): 0.620309050772627\n",
      "model=XGBClassifier(base_score=0.5, booster='gbtree', colsample_bylevel=1,\n",
      "              colsample_bynode=1, colsample_bytree=1, gamma=0, gpu_id=-1,\n",
      "              importance_type='gain', interaction_constraints='',\n",
      "              learning_rate=0.300000012, max_delta_step=0, max_depth=6,\n",
      "              min_child_weight=1, missing=nan, monotone_constraints='()',\n",
      "              n_estimators=100, n_jobs=0, num_parallel_tree=1, random_state=0,\n",
      "              reg_alpha=0, reg_lambda=1, scale_pos_weight=1, subsample=1,\n",
      "              tree_method='exact', validate_parameters=1, verbosity=None): 0.7050359712230216\n"
     ]
    }
   ],
   "source": [
    "logis_score, rf_score, xgb_score = [], [], []\n",
    "\n",
    "kfsplit = kf.split(X_2)\n",
    "for train_index, test_index in kfsplit:\n",
    "    X_kf_train, X_kf_test = X_2[train_index], X_2[test_index]\n",
    "    y_kf_train, y_kf_test = y2_train.iloc[train_index], y2_train.iloc[test_index]\n",
    "        \n",
    "    for model, score_list in zip([logis, rf, xgb], [logis_score, rf_score, xgb_score]):\n",
    "        model_fit = model.fit(X_kf_train, y_kf_train)\n",
    "        predictions = model_fit.predict(X_kf_test)\n",
    "        score = f1_score(y_kf_test, predictions)\n",
    "        score_list.append(score)\n",
    "        print(f'{model=}: {score}')"
   ]
  },
  {
   "cell_type": "code",
   "execution_count": 46,
   "metadata": {},
   "outputs": [
    {
     "data": {
      "image/png": "[encoded data removed]",
      "text/plain": [
       "<Figure size 720x360 with 1 Axes>"
      ]
     },
     "metadata": {
      "needs_background": "light"
     },
     "output_type": "display_data"
    }
   ],
   "source": [
    "fig, ax = plt.subplots(figsize=(10,5)) \n",
    "ax.plot(logis_score, linewidth=3, color='#ccff33', label='Logistic Regression')\n",
    "ax.plot(rf_score, linewidth=3, color='#cc0099', label='Random Forest Classifier')\n",
    "ax.plot(xgb_score, linewidth=3, color='#e7b80d', label='XGBoost Classifier')\n",
    "ax.set_title(\"F1 Scores of Each Model\", fontsize=18) \n",
    "ax.set_facecolor('#555355')\n",
    "ax.legend() \n",
    "\n",
    "plt.show()"
   ]
  },
  {
   "cell_type": "code",
   "execution_count": 47,
   "metadata": {},
   "outputs": [
    {
     "name": "stdout",
     "output_type": "stream",
     "text": [
      "Random Forest: 0.6233279410755467\n",
      "Logistic Regression: 0.6568345438432361\n",
      "XGBoost: 0.7147072081894431\n"
     ]
    }
   ],
   "source": [
    "print(f'Random Forest: {np.mean(rf_score)}')\n",
    "print(f'Logistic Regression: {np.mean(logis_score)}')\n",
    "print(f'XGBoost: {np.mean(xgb_score)}')"
   ]
  },
  {
   "cell_type": "markdown",
   "metadata": {},
   "source": [
    "The Random Forest Classifier and Logistic Regression Classifier seems to have similar F1 scores. \n",
    "\n",
    "The XGBoost Classifier however, performed significantly better. We will perform parameter tuning on the XGBoost Classifier to aim for a better score. "
   ]
  },
  {
   "cell_type": "code",
   "execution_count": 50,
   "metadata": {},
   "outputs": [
    {
     "name": "stdout",
     "output_type": "stream",
     "text": [
      "Fitting 3 folds for each of 72 candidates, totalling 216 fits\n"
     ]
    },
    {
     "name": "stderr",
     "output_type": "stream",
     "text": [
      "[Parallel(n_jobs=5)]: Using backend LokyBackend with 5 concurrent workers.\n",
      "[Parallel(n_jobs=5)]: Done   3 tasks      | elapsed:   30.0s\n",
      "[Parallel(n_jobs=5)]: Done   8 tasks      | elapsed:  2.4min\n",
      "[Parallel(n_jobs=5)]: Done  15 tasks      | elapsed:  4.0min\n",
      "[Parallel(n_jobs=5)]: Done  22 tasks      | elapsed:  6.4min\n",
      "[Parallel(n_jobs=5)]: Done  31 tasks      | elapsed:  9.0min\n",
      "[Parallel(n_jobs=5)]: Done  40 tasks      | elapsed: 12.2min\n",
      "[Parallel(n_jobs=5)]: Done  51 tasks      | elapsed: 15.5min\n",
      "[Parallel(n_jobs=5)]: Done  62 tasks      | elapsed: 17.7min\n",
      "[Parallel(n_jobs=5)]: Done  75 tasks      | elapsed: 20.0min\n",
      "[Parallel(n_jobs=5)]: Done  88 tasks      | elapsed: 23.1min\n",
      "[Parallel(n_jobs=5)]: Done 103 tasks      | elapsed: 26.3min\n",
      "[Parallel(n_jobs=5)]: Done 118 tasks      | elapsed: 29.6min\n",
      "[Parallel(n_jobs=5)]: Done 135 tasks      | elapsed: 34.8min\n",
      "[Parallel(n_jobs=5)]: Done 152 tasks      | elapsed: 40.2min\n",
      "[Parallel(n_jobs=5)]: Done 171 tasks      | elapsed: 44.9min\n",
      "[Parallel(n_jobs=5)]: Done 190 tasks      | elapsed: 49.5min\n",
      "[Parallel(n_jobs=5)]: Done 216 out of 216 | elapsed: 55.8min finished\n"
     ]
    }
   ],
   "source": [
    "from sklearn.model_selection import GridSearchCV\n",
    "\n",
    "clf = XGBClassifier()\n",
    "\n",
    "\n",
    "param_grid = {'n_estimators': [100, 300, 500],\n",
    "            'max_depth': [10, 20, 30],\n",
    "             'learning_rate': [0.05, 0.25] ,\n",
    "             'min_child_weight': [1, 3],\n",
    "             'gamma': [0.0, 0.1]}\n",
    "\n",
    "search_clf = GridSearchCV(clf, param_grid, scoring='f1', cv= 3, n_jobs=5, verbose=10)\n",
    "\n",
    "search_clf.fit(X_2, y2_train)\n",
    "search_scores = search_clf.best_score_\n",
    "search_params = search_clf.best_params_"
   ]
  },
  {
   "cell_type": "code",
   "execution_count": 51,
   "metadata": {},
   "outputs": [
    {
     "name": "stdout",
     "output_type": "stream",
     "text": [
      "The mean best F1 score found by the Grid Search is 73.05%\n",
      "The paramaters that return the best F1 score are:\n",
      " {'gamma': 0.0, 'learning_rate': 0.25, 'max_depth': 30, 'min_child_weight': 3, 'n_estimators': 500}\n"
     ]
    }
   ],
   "source": [
    "print(f\"The mean best F1 score found by the Grid Search is {round(search_scores * 100, 2)}%\")\n",
    "\n",
    "print(f\"The paramaters that return the best F1 score are:\\n {search_params}\")"
   ]
  },
  {
   "cell_type": "code",
   "execution_count": 61,
   "metadata": {},
   "outputs": [
    {
     "name": "stdout",
     "output_type": "stream",
     "text": [
      "0.7647331786542922\n"
     ]
    }
   ],
   "source": [
    "from sklearn.pipeline import make_pipeline   \n",
    "clf_xgb = XGBClassifier(gamma = 0, learning_rate=0.25, max_depth=30, min_child_weight=3, n_estimators=500)\n",
    "\n",
    "xgb_model = make_pipeline(vectorizer, clf_xgb)\n",
    "xgb_model.fit(X2_train, y2_train)\n",
    "test_predict = xgb_model.predict(X2_test)\n",
    "print(f1_score(y2_test, test_predict))"
   ]
  },
  {
   "cell_type": "code",
   "execution_count": 62,
   "metadata": {},
   "outputs": [
    {
     "data": {
      "text/html": [
       "<div>\n",
       "<style scoped>\n",
       "    .dataframe tbody tr th:only-of-type {\n",
       "        vertical-align: middle;\n",
       "    }\n",
       "\n",
       "    .dataframe tbody tr th {\n",
       "        vertical-align: top;\n",
       "    }\n",
       "\n",
       "    .dataframe thead th {\n",
       "        text-align: right;\n",
       "    }\n",
       "</style>\n",
       "<table border=\"1\" class=\"dataframe\">\n",
       "  <thead>\n",
       "    <tr style=\"text-align: right;\">\n",
       "      <th></th>\n",
       "      <th>id</th>\n",
       "      <th>Text</th>\n",
       "    </tr>\n",
       "  </thead>\n",
       "  <tbody>\n",
       "    <tr>\n",
       "      <th>0</th>\n",
       "      <td>5.680000e+17</td>\n",
       "      <td>I can't explain this. http://t.co/GY1rcVZgbO</td>\n",
       "    </tr>\n",
       "    <tr>\n",
       "      <th>1</th>\n",
       "      <td>5.760000e+17</td>\n",
       "      <td>“@WomensWeeklyMag: UPDATE: @healthgovau launch...</td>\n",
       "    </tr>\n",
       "    <tr>\n",
       "      <th>2</th>\n",
       "      <td>5.760000e+17</td>\n",
       "      <td>It would be really funny if they kicked out th...</td>\n",
       "    </tr>\n",
       "    <tr>\n",
       "      <th>3</th>\n",
       "      <td>5.720000e+17</td>\n",
       "      <td>RT @GrumpyPigeon: I'm thinking #MKR will go pa...</td>\n",
       "    </tr>\n",
       "    <tr>\n",
       "      <th>4</th>\n",
       "      <td>5.720000e+17</td>\n",
       "      <td>#MKR praying these two bloody bimbos will leav...</td>\n",
       "    </tr>\n",
       "  </tbody>\n",
       "</table>\n",
       "</div>"
      ],
      "text/plain": [
       "             id                                               Text\n",
       "0  5.680000e+17       I can't explain this. http://t.co/GY1rcVZgbO\n",
       "1  5.760000e+17  “@WomensWeeklyMag: UPDATE: @healthgovau launch...\n",
       "2  5.760000e+17  It would be really funny if they kicked out th...\n",
       "3  5.720000e+17  RT @GrumpyPigeon: I'm thinking #MKR will go pa...\n",
       "4  5.720000e+17  #MKR praying these two bloody bimbos will leav..."
      ]
     },
     "execution_count": 62,
     "metadata": {},
     "output_type": "execute_result"
    }
   ],
   "source": [
    "test_data = pd.read_csv('https://raw.githubusercontent.com/dphi-official/Datasets/master/cyberbullying_data/Testing_set_label.csv')\n",
    "\n",
    "test_data.head()"
   ]
  },
  {
   "cell_type": "code",
   "execution_count": 70,
   "metadata": {},
   "outputs": [],
   "source": [
    "test_data['Text2'] = test_data['Text'].str.replace('@[^\\s]+', 'MENTION', regex=True)\n",
    "test_data['text_lem'] = test_data.apply(lambda x: lemma(x['Text2']), axis=1)"
   ]
  },
  {
   "cell_type": "code",
   "execution_count": 72,
   "metadata": {},
   "outputs": [],
   "source": [
    "test_data_predictions = xgb_model.predict(test_data.text_lem)\n",
    "test_data['prediction'] = test_data_predictions"
   ]
  },
  {
   "cell_type": "code",
   "execution_count": 73,
   "metadata": {},
   "outputs": [],
   "source": [
    "test_data['prediction'].to_csv('data_sprint_13_submission.csv', index = False)"
   ]
  }
 ],
 "metadata": {
  "kernelspec": {
   "display_name": "Python 3",
   "language": "python",
   "name": "python3"
  },
  "language_info": {
   "codemirror_mode": {
    "name": "ipython",
    "version": 3
   },
   "file_extension": ".py",
   "mimetype": "text/x-python",
   "name": "python",
   "nbconvert_exporter": "python",
   "pygments_lexer": "ipython3",
   "version": "3.8.3"
  }
 },
 "nbformat": 4,
 "nbformat_minor": 4
}
